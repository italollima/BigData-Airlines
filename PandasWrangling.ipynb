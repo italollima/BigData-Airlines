{
 "cells": [
  {
   "cell_type": "code",
   "execution_count": 20,
   "metadata": {},
   "outputs": [
    {
     "name": "stdout",
     "output_type": "stream",
     "text": [
      "Requirement already satisfied: pandas in c:\\users\\italo\\.conda\\envs\\dataeco\\lib\\site-packages (1.4.3)Note: you may need to restart the kernel to use updated packages.\n",
      "Requirement already satisfied: numpy>=1.21.0 in c:\\users\\italo\\.conda\\envs\\dataeco\\lib\\site-packages (from pandas) (1.23.2)\n",
      "Requirement already satisfied: pytz>=2020.1 in c:\\users\\italo\\.conda\\envs\\dataeco\\lib\\site-packages (from pandas) (2022.1)\n",
      "Requirement already satisfied: python-dateutil>=2.8.1 in c:\\users\\italo\\.conda\\envs\\dataeco\\lib\\site-packages (from pandas) (2.8.2)\n",
      "Requirement already satisfied: six>=1.5 in c:\\users\\italo\\.conda\\envs\\dataeco\\lib\\site-packages (from python-dateutil>=2.8.1->pandas) (1.12.0)\n",
      "\n"
     ]
    }
   ],
   "source": [
    "pip install pandas"
   ]
  },
  {
   "cell_type": "code",
   "execution_count": 64,
   "metadata": {},
   "outputs": [],
   "source": [
    "import pandas as pd\n",
    "import json as js\n",
    "import codecs"
   ]
  },
  {
   "cell_type": "code",
   "execution_count": 123,
   "metadata": {},
   "outputs": [
    {
     "name": "stdout",
     "output_type": "stream",
     "text": [
      "Fim da linha\n"
     ]
    }
   ],
   "source": [
    "try:\n",
    "    i = 0\n",
    "    list_json = []\n",
    "    while 1:\n",
    "        i +=1\n",
    "        list_json.append(js.load(codecs.open(\"C:/Users/italo/BigData-Airlines/VRA_2021{i}.json\", 'r', 'utf-8-sig'), indent=2))\n",
    "except:\n",
    "    print('Fim da linha')"
   ]
  },
  {
   "cell_type": "code",
   "execution_count": 124,
   "metadata": {},
   "outputs": [
    {
     "name": "stdout",
     "output_type": "stream",
     "text": [
      "[]\n"
     ]
    }
   ],
   "source": [
    "#x =  icao_empresa_aerea_c\n",
    "#print(x.replace('e', '3 ')\n",
    "#>>> icao_3mpr3sa a3r3a\n",
    "print(list_json)"
   ]
  }
 ],
 "metadata": {
  "kernelspec": {
   "display_name": "Python 3.10.4 ('dataeco')",
   "language": "python",
   "name": "python3"
  },
  "language_info": {
   "codemirror_mode": {
    "name": "ipython",
    "version": 3
   },
   "file_extension": ".py",
   "mimetype": "text/x-python",
   "name": "python",
   "nbconvert_exporter": "python",
   "pygments_lexer": "ipython3",
   "version": "3.10.4"
  },
  "orig_nbformat": 4,
  "vscode": {
   "interpreter": {
    "hash": "217b0edd3ab65fb73e5d7e55bed689470930678666784f0368d75070db76901e"
   }
  }
 },
 "nbformat": 4,
 "nbformat_minor": 2
}
